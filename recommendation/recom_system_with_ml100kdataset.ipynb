{
  "cells": [
    {
      "cell_type": "markdown",
      "metadata": {
        "id": "AJabkfCGOe-c"
      },
      "source": [
        "* `u.data`: Chứa toàn bộ các ratings của 943 _users_ cho 1682 movies. Mỗi user rate it nhất 20 movies. Thông tin về thời gian rate cũng được cho nhưng chúng ta không sử dụng trong bài viết này.\n",
        "\n",
        "* `ua.base, ua.test, ub.base, ub.test`: là hai cách chia toàn bộ dữ liệu ra thành hai tập con, một cho training, một cho test. Chúng ta sẽ thực hành trên `ua.base` và `ua.test`. Bạn đọc có thể thử với cách chia dữ liệu còn lại.\n",
        "\n",
        "* `u.user`: Chứa thông tin về _users_, bao gồm: id, tuổi, giới tính, nghề nghiệp, zipcode (vùng miền), vì những thông tin này cũng có thể ảnh hưởng tới sở thích của các _users_. Tuy nhiên, trong bài viết này, chúng ta sẽ không sử dụng các thông tin này, trừ thông tin về _id_ để xác định các user khác nhau.\n",
        "\n",
        "* `u.genre`: Chứa tên của 19 thể loại phim. Các thể loại bao gồm: `unknown, Action, Adventure, Animation, Children's, Comedy, Crime, Documentary, Drama, Fantasy, Film-Noir, Horror, Musical, Mystery, Romance, Sci-Fi, Thriller, War, Western,`\n",
        "\n",
        "* `u.item`: thông tin về mỗi bộ phim. Một vài dòng đầu tiên của file:\n",
        "```\n",
        "1|Toy Story (1995)|01-Jan-1995||http://us.imdb.com/M/title-exact?Toy%20Story%20(1995)|0|0|0|1|1|1|0|0|0|0|0|0|0|0|0|0|0|0|0\n",
        "2|GoldenEye (1995)|01-Jan-1995||http://us.imdb.com/M/title-exact?GoldenEye%20(1995)|0|1|1|0|0|0|0|0|0|0|0|0|0|0|0|0|1|0|0\n",
        "3|Four Rooms (1995)|01-Jan-1995||http://us.imdb.com/M/title-exact?Four%20Rooms%20(1995)|0|0|0|0|0|0|0|0|0|0|0|0|0|0|0|0|1|0|0\n",
        "4|Get Shorty (1995)|01-Jan-1995||http://us.imdb.com/M/title-exact?Get%20Shorty%20(1995)|0|1|0|0|0|1|0|0|1|0|0|0|0|0|0|0|0|0|0\n",
        "```"
      ]
    },
    {
      "cell_type": "code",
      "execution_count": null,
      "metadata": {
        "id": "Wdd0-uh9Oe-j",
        "outputId": "a6087923-3d25-4a9e-e1f0-d1887113ac5c",
        "colab": {
          "base_uri": "https://localhost:8080/",
          "height": 224
        }
      },
      "outputs": [
        {
          "output_type": "stream",
          "name": "stdout",
          "text": [
            "Number of users: 943\n"
          ]
        },
        {
          "output_type": "execute_result",
          "data": {
            "text/plain": [
              "   user_id  age sex  occupation zip_code\n",
              "0        1   24   M  technician    85711\n",
              "1        2   53   F       other    94043\n",
              "2        3   23   M      writer    32067\n",
              "3        4   24   M  technician    43537\n",
              "4        5   33   F       other    15213"
            ],
            "text/html": [
              "\n",
              "  <div id=\"df-89be6f9d-4ac6-4662-9e83-25ae8d89238b\" class=\"colab-df-container\">\n",
              "    <div>\n",
              "<style scoped>\n",
              "    .dataframe tbody tr th:only-of-type {\n",
              "        vertical-align: middle;\n",
              "    }\n",
              "\n",
              "    .dataframe tbody tr th {\n",
              "        vertical-align: top;\n",
              "    }\n",
              "\n",
              "    .dataframe thead th {\n",
              "        text-align: right;\n",
              "    }\n",
              "</style>\n",
              "<table border=\"1\" class=\"dataframe\">\n",
              "  <thead>\n",
              "    <tr style=\"text-align: right;\">\n",
              "      <th></th>\n",
              "      <th>user_id</th>\n",
              "      <th>age</th>\n",
              "      <th>sex</th>\n",
              "      <th>occupation</th>\n",
              "      <th>zip_code</th>\n",
              "    </tr>\n",
              "  </thead>\n",
              "  <tbody>\n",
              "    <tr>\n",
              "      <th>0</th>\n",
              "      <td>1</td>\n",
              "      <td>24</td>\n",
              "      <td>M</td>\n",
              "      <td>technician</td>\n",
              "      <td>85711</td>\n",
              "    </tr>\n",
              "    <tr>\n",
              "      <th>1</th>\n",
              "      <td>2</td>\n",
              "      <td>53</td>\n",
              "      <td>F</td>\n",
              "      <td>other</td>\n",
              "      <td>94043</td>\n",
              "    </tr>\n",
              "    <tr>\n",
              "      <th>2</th>\n",
              "      <td>3</td>\n",
              "      <td>23</td>\n",
              "      <td>M</td>\n",
              "      <td>writer</td>\n",
              "      <td>32067</td>\n",
              "    </tr>\n",
              "    <tr>\n",
              "      <th>3</th>\n",
              "      <td>4</td>\n",
              "      <td>24</td>\n",
              "      <td>M</td>\n",
              "      <td>technician</td>\n",
              "      <td>43537</td>\n",
              "    </tr>\n",
              "    <tr>\n",
              "      <th>4</th>\n",
              "      <td>5</td>\n",
              "      <td>33</td>\n",
              "      <td>F</td>\n",
              "      <td>other</td>\n",
              "      <td>15213</td>\n",
              "    </tr>\n",
              "  </tbody>\n",
              "</table>\n",
              "</div>\n",
              "    <div class=\"colab-df-buttons\">\n",
              "\n",
              "  <div class=\"colab-df-container\">\n",
              "    <button class=\"colab-df-convert\" onclick=\"convertToInteractive('df-89be6f9d-4ac6-4662-9e83-25ae8d89238b')\"\n",
              "            title=\"Convert this dataframe to an interactive table.\"\n",
              "            style=\"display:none;\">\n",
              "\n",
              "  <svg xmlns=\"http://www.w3.org/2000/svg\" height=\"24px\" viewBox=\"0 -960 960 960\">\n",
              "    <path d=\"M120-120v-720h720v720H120Zm60-500h600v-160H180v160Zm220 220h160v-160H400v160Zm0 220h160v-160H400v160ZM180-400h160v-160H180v160Zm440 0h160v-160H620v160ZM180-180h160v-160H180v160Zm440 0h160v-160H620v160Z\"/>\n",
              "  </svg>\n",
              "    </button>\n",
              "\n",
              "  <style>\n",
              "    .colab-df-container {\n",
              "      display:flex;\n",
              "      gap: 12px;\n",
              "    }\n",
              "\n",
              "    .colab-df-convert {\n",
              "      background-color: #E8F0FE;\n",
              "      border: none;\n",
              "      border-radius: 50%;\n",
              "      cursor: pointer;\n",
              "      display: none;\n",
              "      fill: #1967D2;\n",
              "      height: 32px;\n",
              "      padding: 0 0 0 0;\n",
              "      width: 32px;\n",
              "    }\n",
              "\n",
              "    .colab-df-convert:hover {\n",
              "      background-color: #E2EBFA;\n",
              "      box-shadow: 0px 1px 2px rgba(60, 64, 67, 0.3), 0px 1px 3px 1px rgba(60, 64, 67, 0.15);\n",
              "      fill: #174EA6;\n",
              "    }\n",
              "\n",
              "    .colab-df-buttons div {\n",
              "      margin-bottom: 4px;\n",
              "    }\n",
              "\n",
              "    [theme=dark] .colab-df-convert {\n",
              "      background-color: #3B4455;\n",
              "      fill: #D2E3FC;\n",
              "    }\n",
              "\n",
              "    [theme=dark] .colab-df-convert:hover {\n",
              "      background-color: #434B5C;\n",
              "      box-shadow: 0px 1px 3px 1px rgba(0, 0, 0, 0.15);\n",
              "      filter: drop-shadow(0px 1px 2px rgba(0, 0, 0, 0.3));\n",
              "      fill: #FFFFFF;\n",
              "    }\n",
              "  </style>\n",
              "\n",
              "    <script>\n",
              "      const buttonEl =\n",
              "        document.querySelector('#df-89be6f9d-4ac6-4662-9e83-25ae8d89238b button.colab-df-convert');\n",
              "      buttonEl.style.display =\n",
              "        google.colab.kernel.accessAllowed ? 'block' : 'none';\n",
              "\n",
              "      async function convertToInteractive(key) {\n",
              "        const element = document.querySelector('#df-89be6f9d-4ac6-4662-9e83-25ae8d89238b');\n",
              "        const dataTable =\n",
              "          await google.colab.kernel.invokeFunction('convertToInteractive',\n",
              "                                                    [key], {});\n",
              "        if (!dataTable) return;\n",
              "\n",
              "        const docLinkHtml = 'Like what you see? Visit the ' +\n",
              "          '<a target=\"_blank\" href=https://colab.research.google.com/notebooks/data_table.ipynb>data table notebook</a>'\n",
              "          + ' to learn more about interactive tables.';\n",
              "        element.innerHTML = '';\n",
              "        dataTable['output_type'] = 'display_data';\n",
              "        await google.colab.output.renderOutput(dataTable, element);\n",
              "        const docLink = document.createElement('div');\n",
              "        docLink.innerHTML = docLinkHtml;\n",
              "        element.appendChild(docLink);\n",
              "      }\n",
              "    </script>\n",
              "  </div>\n",
              "\n",
              "\n",
              "<div id=\"df-d3333103-9ffd-4370-9e86-00fbd527f3af\">\n",
              "  <button class=\"colab-df-quickchart\" onclick=\"quickchart('df-d3333103-9ffd-4370-9e86-00fbd527f3af')\"\n",
              "            title=\"Suggest charts\"\n",
              "            style=\"display:none;\">\n",
              "\n",
              "<svg xmlns=\"http://www.w3.org/2000/svg\" height=\"24px\"viewBox=\"0 0 24 24\"\n",
              "     width=\"24px\">\n",
              "    <g>\n",
              "        <path d=\"M19 3H5c-1.1 0-2 .9-2 2v14c0 1.1.9 2 2 2h14c1.1 0 2-.9 2-2V5c0-1.1-.9-2-2-2zM9 17H7v-7h2v7zm4 0h-2V7h2v10zm4 0h-2v-4h2v4z\"/>\n",
              "    </g>\n",
              "</svg>\n",
              "  </button>\n",
              "\n",
              "<style>\n",
              "  .colab-df-quickchart {\n",
              "      --bg-color: #E8F0FE;\n",
              "      --fill-color: #1967D2;\n",
              "      --hover-bg-color: #E2EBFA;\n",
              "      --hover-fill-color: #174EA6;\n",
              "      --disabled-fill-color: #AAA;\n",
              "      --disabled-bg-color: #DDD;\n",
              "  }\n",
              "\n",
              "  [theme=dark] .colab-df-quickchart {\n",
              "      --bg-color: #3B4455;\n",
              "      --fill-color: #D2E3FC;\n",
              "      --hover-bg-color: #434B5C;\n",
              "      --hover-fill-color: #FFFFFF;\n",
              "      --disabled-bg-color: #3B4455;\n",
              "      --disabled-fill-color: #666;\n",
              "  }\n",
              "\n",
              "  .colab-df-quickchart {\n",
              "    background-color: var(--bg-color);\n",
              "    border: none;\n",
              "    border-radius: 50%;\n",
              "    cursor: pointer;\n",
              "    display: none;\n",
              "    fill: var(--fill-color);\n",
              "    height: 32px;\n",
              "    padding: 0;\n",
              "    width: 32px;\n",
              "  }\n",
              "\n",
              "  .colab-df-quickchart:hover {\n",
              "    background-color: var(--hover-bg-color);\n",
              "    box-shadow: 0 1px 2px rgba(60, 64, 67, 0.3), 0 1px 3px 1px rgba(60, 64, 67, 0.15);\n",
              "    fill: var(--button-hover-fill-color);\n",
              "  }\n",
              "\n",
              "  .colab-df-quickchart-complete:disabled,\n",
              "  .colab-df-quickchart-complete:disabled:hover {\n",
              "    background-color: var(--disabled-bg-color);\n",
              "    fill: var(--disabled-fill-color);\n",
              "    box-shadow: none;\n",
              "  }\n",
              "\n",
              "  .colab-df-spinner {\n",
              "    border: 2px solid var(--fill-color);\n",
              "    border-color: transparent;\n",
              "    border-bottom-color: var(--fill-color);\n",
              "    animation:\n",
              "      spin 1s steps(1) infinite;\n",
              "  }\n",
              "\n",
              "  @keyframes spin {\n",
              "    0% {\n",
              "      border-color: transparent;\n",
              "      border-bottom-color: var(--fill-color);\n",
              "      border-left-color: var(--fill-color);\n",
              "    }\n",
              "    20% {\n",
              "      border-color: transparent;\n",
              "      border-left-color: var(--fill-color);\n",
              "      border-top-color: var(--fill-color);\n",
              "    }\n",
              "    30% {\n",
              "      border-color: transparent;\n",
              "      border-left-color: var(--fill-color);\n",
              "      border-top-color: var(--fill-color);\n",
              "      border-right-color: var(--fill-color);\n",
              "    }\n",
              "    40% {\n",
              "      border-color: transparent;\n",
              "      border-right-color: var(--fill-color);\n",
              "      border-top-color: var(--fill-color);\n",
              "    }\n",
              "    60% {\n",
              "      border-color: transparent;\n",
              "      border-right-color: var(--fill-color);\n",
              "    }\n",
              "    80% {\n",
              "      border-color: transparent;\n",
              "      border-right-color: var(--fill-color);\n",
              "      border-bottom-color: var(--fill-color);\n",
              "    }\n",
              "    90% {\n",
              "      border-color: transparent;\n",
              "      border-bottom-color: var(--fill-color);\n",
              "    }\n",
              "  }\n",
              "</style>\n",
              "\n",
              "  <script>\n",
              "    async function quickchart(key) {\n",
              "      const quickchartButtonEl =\n",
              "        document.querySelector('#' + key + ' button');\n",
              "      quickchartButtonEl.disabled = true;  // To prevent multiple clicks.\n",
              "      quickchartButtonEl.classList.add('colab-df-spinner');\n",
              "      try {\n",
              "        const charts = await google.colab.kernel.invokeFunction(\n",
              "            'suggestCharts', [key], {});\n",
              "      } catch (error) {\n",
              "        console.error('Error during call to suggestCharts:', error);\n",
              "      }\n",
              "      quickchartButtonEl.classList.remove('colab-df-spinner');\n",
              "      quickchartButtonEl.classList.add('colab-df-quickchart-complete');\n",
              "    }\n",
              "    (() => {\n",
              "      let quickchartButtonEl =\n",
              "        document.querySelector('#df-d3333103-9ffd-4370-9e86-00fbd527f3af button');\n",
              "      quickchartButtonEl.style.display =\n",
              "        google.colab.kernel.accessAllowed ? 'block' : 'none';\n",
              "    })();\n",
              "  </script>\n",
              "</div>\n",
              "\n",
              "    </div>\n",
              "  </div>\n"
            ],
            "application/vnd.google.colaboratory.intrinsic+json": {
              "type": "dataframe",
              "variable_name": "users",
              "summary": "{\n  \"name\": \"users\",\n  \"rows\": 943,\n  \"fields\": [\n    {\n      \"column\": \"user_id\",\n      \"properties\": {\n        \"dtype\": \"number\",\n        \"std\": 272,\n        \"min\": 1,\n        \"max\": 943,\n        \"num_unique_values\": 943,\n        \"samples\": [\n          97,\n          266,\n          811\n        ],\n        \"semantic_type\": \"\",\n        \"description\": \"\"\n      }\n    },\n    {\n      \"column\": \"age\",\n      \"properties\": {\n        \"dtype\": \"number\",\n        \"std\": 12,\n        \"min\": 7,\n        \"max\": 73,\n        \"num_unique_values\": 61,\n        \"samples\": [\n          24,\n          57,\n          52\n        ],\n        \"semantic_type\": \"\",\n        \"description\": \"\"\n      }\n    },\n    {\n      \"column\": \"sex\",\n      \"properties\": {\n        \"dtype\": \"category\",\n        \"num_unique_values\": 2,\n        \"samples\": [\n          \"F\",\n          \"M\"\n        ],\n        \"semantic_type\": \"\",\n        \"description\": \"\"\n      }\n    },\n    {\n      \"column\": \"occupation\",\n      \"properties\": {\n        \"dtype\": \"category\",\n        \"num_unique_values\": 21,\n        \"samples\": [\n          \"technician\",\n          \"healthcare\"\n        ],\n        \"semantic_type\": \"\",\n        \"description\": \"\"\n      }\n    },\n    {\n      \"column\": \"zip_code\",\n      \"properties\": {\n        \"dtype\": \"string\",\n        \"num_unique_values\": 795,\n        \"samples\": [\n          \"90016\",\n          \"15232\"\n        ],\n        \"semantic_type\": \"\",\n        \"description\": \"\"\n      }\n    }\n  ]\n}"
            }
          },
          "metadata": {},
          "execution_count": 2
        }
      ],
      "source": [
        "import pandas as pd\n",
        "# Reading user file:\n",
        "u_cols =  ['user_id', 'age', 'sex', 'occupation', 'zip_code']\n",
        "users = pd.read_csv('/content/u.user', sep='|', names=u_cols,\n",
        " encoding='latin-1')\n",
        "\n",
        "n_users = users.shape[0]\n",
        "print('Number of users:', n_users)\n",
        "users.head() #uncomment this to see some few examples"
      ]
    },
    {
      "cell_type": "code",
      "execution_count": null,
      "metadata": {
        "id": "yMtzzYOQOe-k",
        "outputId": "01c2b74f-4389-431c-b8ac-8baa6651bf8e",
        "colab": {
          "base_uri": "https://localhost:8080/"
        }
      },
      "outputs": [
        {
          "output_type": "stream",
          "name": "stdout",
          "text": [
            "Number of traing rates: 90570\n",
            "Number of test rates: 9430\n"
          ]
        }
      ],
      "source": [
        "#Reading ratings file:\n",
        "r_cols = ['user_id', 'movie_id', 'rating', 'unix_timestamp']\n",
        "\n",
        "ratings_base = pd.read_csv('/content/ua.base', sep='\\t', names=r_cols, encoding='latin-1')\n",
        "ratings_test = pd.read_csv('/content/ua.test', sep='\\t', names=r_cols, encoding='latin-1')\n",
        "\n",
        "rate_train = ratings_base.values\n",
        "rate_test = ratings_test.values\n",
        "\n",
        "print('Number of traing rates:', rate_train.shape[0])\n",
        "print('Number of test rates:', rate_test.shape[0])"
      ]
    },
    {
      "cell_type": "code",
      "source": [
        "print(ratings_base.head())\n",
        "print(ratings_test.head())"
      ],
      "metadata": {
        "colab": {
          "base_uri": "https://localhost:8080/"
        },
        "id": "rI4NvCfK4aSl",
        "outputId": "e66c173a-d2f1-4dbf-de7b-e01cf690e99d"
      },
      "execution_count": null,
      "outputs": [
        {
          "output_type": "stream",
          "name": "stdout",
          "text": [
            "   user_id  movie_id  rating  unix_timestamp\n",
            "0        1         1       5       874965758\n",
            "1        1         2       3       876893171\n",
            "2        1         3       4       878542960\n",
            "3        1         4       3       876893119\n",
            "4        1         5       3       889751712\n",
            "   user_id  movie_id  rating  unix_timestamp\n",
            "0        1        20       4       887431883\n",
            "1        1        33       4       878542699\n",
            "2        1        61       4       878542420\n",
            "3        1       117       3       874965739\n",
            "4        1       155       2       878542201\n"
          ]
        }
      ]
    },
    {
      "cell_type": "markdown",
      "metadata": {
        "id": "SsiVyCJbOe-l"
      },
      "source": [
        "### Xây dựng item profiles"
      ]
    },
    {
      "cell_type": "code",
      "execution_count": null,
      "metadata": {
        "id": "pBEwXughOe-l",
        "outputId": "c60e45ec-6aaa-44b0-8d79-8ec3635d8f36",
        "colab": {
          "base_uri": "https://localhost:8080/"
        }
      },
      "outputs": [
        {
          "output_type": "stream",
          "name": "stdout",
          "text": [
            "Number of items: 1682\n"
          ]
        }
      ],
      "source": [
        "#Reading items file:\n",
        "i_cols = ['movie id', 'movie title' ,'release date','video release date', 'IMDb URL', 'unknown', 'Action', 'Adventure',\n",
        " 'Animation', 'Children\\'s', 'Comedy', 'Crime', 'Documentary', 'Drama', 'Fantasy',\n",
        " 'Film-Noir', 'Horror', 'Musical', 'Mystery', 'Romance', 'Sci-Fi', 'Thriller', 'War', 'Western']\n",
        "\n",
        "items = pd.read_csv('/content/u.item', sep='|', names=i_cols,\n",
        " encoding='latin-1')\n",
        "\n",
        "n_items = items.shape[0]\n",
        "print('Number of items:', n_items)\n",
        "#print(items.head())"
      ]
    },
    {
      "cell_type": "code",
      "source": [
        "print(items.head())"
      ],
      "metadata": {
        "colab": {
          "base_uri": "https://localhost:8080/"
        },
        "id": "kkPNp7bU480k",
        "outputId": "09ba94ff-bd8e-4a80-a88f-809ac1b68f88"
      },
      "execution_count": null,
      "outputs": [
        {
          "output_type": "stream",
          "name": "stdout",
          "text": [
            "   movie id        movie title release date  video release date  \\\n",
            "0         1   Toy Story (1995)  01-Jan-1995                 NaN   \n",
            "1         2   GoldenEye (1995)  01-Jan-1995                 NaN   \n",
            "2         3  Four Rooms (1995)  01-Jan-1995                 NaN   \n",
            "3         4  Get Shorty (1995)  01-Jan-1995                 NaN   \n",
            "4         5     Copycat (1995)  01-Jan-1995                 NaN   \n",
            "\n",
            "                                            IMDb URL  unknown  Action  \\\n",
            "0  http://us.imdb.com/M/title-exact?Toy%20Story%2...        0       0   \n",
            "1  http://us.imdb.com/M/title-exact?GoldenEye%20(...        0       1   \n",
            "2  http://us.imdb.com/M/title-exact?Four%20Rooms%...        0       0   \n",
            "3  http://us.imdb.com/M/title-exact?Get%20Shorty%...        0       1   \n",
            "4  http://us.imdb.com/M/title-exact?Copycat%20(1995)        0       0   \n",
            "\n",
            "   Adventure  Animation  Children's  ...  Fantasy  Film-Noir  Horror  Musical  \\\n",
            "0          0          1           1  ...        0          0       0        0   \n",
            "1          1          0           0  ...        0          0       0        0   \n",
            "2          0          0           0  ...        0          0       0        0   \n",
            "3          0          0           0  ...        0          0       0        0   \n",
            "4          0          0           0  ...        0          0       0        0   \n",
            "\n",
            "   Mystery  Romance  Sci-Fi  Thriller  War  Western  \n",
            "0        0        0       0         0    0        0  \n",
            "1        0        0       0         1    0        0  \n",
            "2        0        0       0         1    0        0  \n",
            "3        0        0       0         0    0        0  \n",
            "4        0        0       0         1    0        0  \n",
            "\n",
            "[5 rows x 24 columns]\n"
          ]
        }
      ]
    },
    {
      "cell_type": "markdown",
      "metadata": {
        "id": "XhquueLHOe-l"
      },
      "source": [
        " 19 giá trị nhị phân ở cuối mỗi hàng:"
      ]
    },
    {
      "cell_type": "code",
      "execution_count": null,
      "metadata": {
        "id": "JXXPb_6IOe-l",
        "colab": {
          "base_uri": "https://localhost:8080/"
        },
        "outputId": "04a2803c-a61c-4554-c6f2-494001db5a6c"
      },
      "outputs": [
        {
          "output_type": "stream",
          "name": "stdout",
          "text": [
            "[[1 'Toy Story (1995)' '01-Jan-1995' ... 0 0 0]\n",
            " [2 'GoldenEye (1995)' '01-Jan-1995' ... 1 0 0]\n",
            " [3 'Four Rooms (1995)' '01-Jan-1995' ... 1 0 0]\n",
            " ...\n",
            " [1680 'Sliding Doors (1998)' '01-Jan-1998' ... 0 0 0]\n",
            " [1681 'You So Crazy (1994)' '01-Jan-1994' ... 0 0 0]\n",
            " [1682 'Scream of Stone (Schrei aus Stein) (1991)' '08-Mar-1996' ... 0 0\n",
            "  0]]\n",
            "[[0 0 0 ... 0 0 0]\n",
            " [0 1 1 ... 1 0 0]\n",
            " [0 0 0 ... 1 0 0]\n",
            " ...\n",
            " [0 0 0 ... 0 0 0]\n",
            " [0 0 0 ... 0 0 0]\n",
            " [0 0 0 ... 0 0 0]]\n"
          ]
        }
      ],
      "source": [
        "X0 = items.values\n",
        "X_train_counts = X0[:, -19:]\n",
        "print(X0)\n",
        "print(X_train_counts)"
      ]
    },
    {
      "cell_type": "markdown",
      "metadata": {
        "id": "G0cVw4OqOe-l"
      },
      "source": [
        "xây dựng feature vector cho mỗi item dựa trên ma trận thể loại phim và TF-IDF (xem phần phụ lục)."
      ]
    },
    {
      "cell_type": "code",
      "execution_count": null,
      "metadata": {
        "id": "Cc1M9-qBOe-l",
        "colab": {
          "base_uri": "https://localhost:8080/"
        },
        "outputId": "537672f3-92f9-4260-8d48-65b2af12c74c"
      },
      "outputs": [
        {
          "output_type": "stream",
          "name": "stdout",
          "text": [
            "[[0.   0.   0.   ... 0.   0.   0.  ]\n",
            " [0.   0.54 0.65 ... 0.54 0.   0.  ]\n",
            " [0.   0.   0.   ... 1.   0.   0.  ]\n",
            " ...\n",
            " [0.   0.   0.   ... 0.   0.   0.  ]\n",
            " [0.   0.   0.   ... 0.   0.   0.  ]\n",
            " [0.   0.   0.   ... 0.   0.   0.  ]]\n"
          ]
        }
      ],
      "source": [
        "#tfidf\n",
        "from sklearn.feature_extraction.text import TfidfTransformer\n",
        "transformer = TfidfTransformer(smooth_idf=True, norm ='l2')\n",
        "tfidf = transformer.fit_transform(X_train_counts.tolist()).toarray()\n",
        "print(tfidf)"
      ]
    },
    {
      "cell_type": "markdown",
      "metadata": {
        "id": "_JNX5aAoOe-m"
      },
      "source": [
        "mỗi hàng của `tfidf` tương ứng với feature vector của một bộ phim.\n",
        "\n",
        "xây dựng những bộ phim nào mà _user_ đó đã _rated_, và giá trị của các _rating_ đó."
      ]
    },
    {
      "cell_type": "code",
      "execution_count": null,
      "metadata": {
        "collapsed": true,
        "id": "M-7PCYm2Oe-m"
      },
      "outputs": [],
      "source": [
        "import numpy as np\n",
        "def get_items_rated_by_user(rate_matrix, user_id):\n",
        "    \"\"\"\n",
        "    return (item_ids, scores)\n",
        "    \"\"\"\n",
        "    y = rate_matrix[:,0] # all users\n",
        "    # item indices rated by user_id\n",
        "    # we need to +1 to user_id since in the rate_matrix, id starts from 1\n",
        "    # but id in python starts from 0\n",
        "    ids = np.where(y == user_id +1)[0]\n",
        "    item_ids = rate_matrix[ids, 1] - 1 # index starts from 0\n",
        "    scores = rate_matrix[ids, 2]\n",
        "    return (item_ids, scores)"
      ]
    },
    {
      "cell_type": "markdown",
      "metadata": {
        "id": "mrzVQ-w1Oe-m"
      },
      "source": [
        "Bây giờ, ta có thể đi tìm các hệ số của Ridge Regression cho mỗi _user_:"
      ]
    },
    {
      "cell_type": "code",
      "execution_count": null,
      "metadata": {
        "collapsed": true,
        "id": "MKAvOJVTOe-m"
      },
      "outputs": [],
      "source": [
        "from sklearn.linear_model import Ridge\n",
        "from sklearn import linear_model\n",
        "\n",
        "d = tfidf.shape[1] # data dimension\n",
        "W = np.zeros((d, n_users))\n",
        "b = np.zeros((1, n_users))\n",
        "\n",
        "for n in range(n_users):\n",
        "    ids, scores = get_items_rated_by_user(rate_train, n)\n",
        "    clf = Ridge(alpha=0.01, fit_intercept  = True)\n",
        "    Xhat = tfidf[ids, :]\n",
        "\n",
        "    clf.fit(Xhat, scores)\n",
        "    W[:, n] = clf.coef_\n",
        "    b[0, n] = clf.intercept_\n"
      ]
    },
    {
      "cell_type": "markdown",
      "metadata": {
        "id": "v507RpzhOe-m"
      },
      "source": [
        "Sau khi tính được các hệ số `W` và `b`, _ratings_ cho mỗi _items_ được dự đoán bằng cách tính:"
      ]
    },
    {
      "cell_type": "code",
      "execution_count": null,
      "metadata": {
        "collapsed": true,
        "id": "9D-FKQTrOe-m"
      },
      "outputs": [],
      "source": [
        "# predicted scores\n",
        "Yhat = tfidf.dot(W) + b"
      ]
    },
    {
      "cell_type": "code",
      "source": [
        "print(Yhat)"
      ],
      "metadata": {
        "colab": {
          "base_uri": "https://localhost:8080/"
        },
        "id": "d4-Hs7qb7GJ9",
        "outputId": "4a2ee3e2-d72b-4732-f5fa-61b05ae1dec7"
      },
      "execution_count": null,
      "outputs": [
        {
          "output_type": "stream",
          "name": "stdout",
          "text": [
            "[[2.92 4.   1.9  ... 5.04 4.78 3.17]\n",
            " [2.8  3.44 3.3  ... 1.1  4.76 3.7 ]\n",
            " [3.48 1.56 1.27 ... 7.36 4.19 3.81]\n",
            " ...\n",
            " [4.13 4.1  3.02 ... 9.54 4.64 3.27]\n",
            " [3.57 3.45 2.93 ... 3.68 3.66 2.76]\n",
            " [4.13 3.8  3.1  ... 9.54 4.42 3.93]]\n"
          ]
        }
      ]
    },
    {
      "cell_type": "code",
      "source": [
        "print(Yhat.shape)\n",
        "print(Yhat[[221, 251, 280], 100])"
      ],
      "metadata": {
        "colab": {
          "base_uri": "https://localhost:8080/"
        },
        "id": "gLF2i2IQ7htq",
        "outputId": "3b1f6b05-4be5-432f-a4de-7daa7bf818c2"
      },
      "execution_count": null,
      "outputs": [
        {
          "output_type": "stream",
          "name": "stdout",
          "text": [
            "(1682, 943)\n",
            "[3.28 3.5  3.07]\n"
          ]
        }
      ]
    },
    {
      "cell_type": "markdown",
      "metadata": {
        "id": "AuYzlgP1Oe-m"
      },
      "source": [
        "Dưới đây là một ví dụ với _user_ có _id_ là `100`."
      ]
    },
    {
      "cell_type": "code",
      "execution_count": null,
      "metadata": {
        "id": "bm6bL8YROe-m",
        "colab": {
          "base_uri": "https://localhost:8080/"
        },
        "outputId": "e1a23b64-fee8-442d-edca-5d85655f2902"
      },
      "outputs": [
        {
          "output_type": "stream",
          "name": "stdout",
          "text": [
            "Rated movies ids : [244 293 322 327 330 331 333 334 336 342]\n",
            "True ratings     : [1 2 2 5 4 1 3 1 1 3]\n",
            "Predicted ratings: [2.9  2.93 1.95 3.04 3.07 3.41 3.91 2.93 2.93 2.35]\n"
          ]
        }
      ],
      "source": [
        "n = 2\n",
        "np.set_printoptions(precision=2) # 2 digits after .\n",
        "ids, scores = get_items_rated_by_user(rate_test, n)\n",
        "Yhat[n, ids]\n",
        "print('Rated movies ids :', ids )\n",
        "print('True ratings     :', scores)\n",
        "print('Predicted ratings:', Yhat[ids, n])"
      ]
    },
    {
      "cell_type": "markdown",
      "metadata": {
        "id": "6t6bIudDOe-n"
      },
      "source": [
        "Để đánh giá mô hình tìm được, chúng ta sẽ sử dụng Root Mean Squared Error (RMSE), tức căn bậc hai của trung bình cộng bình phương của lỗi. Lỗi được tính là hiệu của _true rating_ và _predicted rating_:"
      ]
    },
    {
      "cell_type": "code",
      "execution_count": null,
      "metadata": {
        "id": "xOzxbUDFOe-n",
        "outputId": "c8dc65b2-7073-4813-f8ac-580d3a290890",
        "colab": {
          "base_uri": "https://localhost:8080/"
        }
      },
      "outputs": [
        {
          "output_type": "stream",
          "name": "stdout",
          "text": [
            "RMSE for training: 0.9089804562826721\n",
            "RMSE for test    : 1.2703282700393035\n"
          ]
        }
      ],
      "source": [
        "from math import sqrt\n",
        "def evaluate(Yhat, rates, W, b):\n",
        "    se = 0\n",
        "    cnt = 0\n",
        "    for n in range(n_users):\n",
        "        ids, scores_truth = get_items_rated_by_user(rates, n)\n",
        "        scores_pred = Yhat[ids, n]\n",
        "        e = scores_truth - scores_pred\n",
        "        se += (e*e).sum(axis = 0)\n",
        "        cnt += e.size\n",
        "    return sqrt(se/cnt)\n",
        "\n",
        "print('RMSE for training:', evaluate(Yhat, rate_train, W, b))\n",
        "print('RMSE for test    :', evaluate(Yhat, rate_test, W, b))"
      ]
    },
    {
      "cell_type": "markdown",
      "metadata": {
        "id": "k-f6TAkaOe-n"
      },
      "source": [
        "Như vậy, với tập training, sai số vào khoảng 0.9 _sao_; với tập test, sai số lớn hơn một chút, rơi vào khoảng 1.3. Chúng ta thấy rằng kết quả này chưa thực sự tốt vì chúng ta đã đơn giản hoá mô hình đi quá nhiều. Kết quả tốt hơn có thể được thấy trong bài tiếp theo: Collaborative Filtering."
      ]
    },
    {
      "cell_type": "code",
      "source": [
        "# Danh sách các thể loại phim\n",
        "genres = [\"action\", \"drama\", \"comedy\", \"horror\", \"animation\"]\n",
        "\n",
        "# Thể loại của phim dưới dạng chuỗi\n",
        "movie_genres_str = \"action, drama\"\n",
        "\n",
        "# Chuyển đổi chuỗi thành danh sách các thể loại\n",
        "movie_genres = movie_genres_str.split(\", \")\n",
        "\n",
        "# Tạo danh sách nhị phân dựa trên thể loại phim\n",
        "binary_representation = [1 if genre in movie_genres else 0 for genre in genres]\n",
        "\n",
        "# Hiển thị kết quả\n",
        "print(\"Các thể loại phim:\")\n",
        "print(\" \".join(genres))\n",
        "\n",
        "print(\"\\nDạng nhị phân:\")\n",
        "print(\" \".join(map(str, binary_representation)))\n"
      ],
      "metadata": {
        "colab": {
          "base_uri": "https://localhost:8080/"
        },
        "id": "CejgBudFE3nI",
        "outputId": "4bef64a1-7dcd-4748-a6c7-b013f345569e"
      },
      "execution_count": null,
      "outputs": [
        {
          "output_type": "stream",
          "name": "stdout",
          "text": [
            "Các thể loại phim:\n",
            "action drama comedy horror animation\n",
            "\n",
            "Dạng nhị phân:\n",
            "1 1 0 0 0\n"
          ]
        }
      ]
    },
    {
      "cell_type": "code",
      "source": [
        "genres_binary = []"
      ],
      "metadata": {
        "id": "s597QDOIF-7I"
      },
      "execution_count": null,
      "outputs": []
    },
    {
      "cell_type": "code",
      "source": [
        "genres_binary.append(binary_representation)\n",
        "print(genres_binary[1])"
      ],
      "metadata": {
        "colab": {
          "base_uri": "https://localhost:8080/"
        },
        "id": "cWB9Q0X0FbOo",
        "outputId": "ef398aa0-944d-4f3b-90e8-8cacccd2b57f"
      },
      "execution_count": null,
      "outputs": [
        {
          "output_type": "stream",
          "name": "stdout",
          "text": [
            "[1, 1, 0, 0, 0]\n"
          ]
        }
      ]
    },
    {
      "cell_type": "code",
      "source": [
        "#tfidf\n",
        "from sklearn.feature_extraction.text import TfidfTransformer\n",
        "transformer = TfidfTransformer(smooth_idf=True, norm ='l2')\n",
        "tfidf = transformer.fit_transform(genres_binary).toarray()\n",
        "print(tfidf)"
      ],
      "metadata": {
        "colab": {
          "base_uri": "https://localhost:8080/"
        },
        "id": "adqOqbLRGWyv",
        "outputId": "b12501e2-7219-418c-9f83-525eed4df3af"
      },
      "execution_count": null,
      "outputs": [
        {
          "output_type": "stream",
          "name": "stdout",
          "text": [
            "[[0.38 0.38 0.   0.   0.85]\n",
            " [0.71 0.71 0.   0.   0.  ]\n",
            " [0.71 0.71 0.   0.   0.  ]\n",
            " [0.71 0.71 0.   0.   0.  ]\n",
            " [0.71 0.71 0.   0.   0.  ]\n",
            " [0.71 0.71 0.   0.   0.  ]]\n"
          ]
        }
      ]
    }
  ],
  "metadata": {
    "kernelspec": {
      "display_name": "Python 2",
      "language": "python",
      "name": "python2"
    },
    "language_info": {
      "codemirror_mode": {
        "name": "ipython",
        "version": 2
      },
      "file_extension": ".py",
      "mimetype": "text/x-python",
      "name": "python",
      "nbconvert_exporter": "python",
      "pygments_lexer": "ipython2",
      "version": "2.7.13"
    },
    "colab": {
      "provenance": [],
      "gpuType": "T4"
    },
    "accelerator": "GPU"
  },
  "nbformat": 4,
  "nbformat_minor": 0
}