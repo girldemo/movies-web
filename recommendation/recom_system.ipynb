{
 "cells": [
  {
   "cell_type": "code",
   "execution_count": 23,
   "metadata": {},
   "outputs": [
    {
     "name": "stdout",
     "output_type": "stream",
     "text": [
      "Kết nối thành công!\n"
     ]
    }
   ],
   "source": [
    "import mysql.connector\n",
    "\n",
    "# Thiết lập kết nối\n",
    "mydb = mysql.connector.connect(\n",
    "  host=\"localhost\",\n",
    "  user=\"root\",\n",
    "  password=\"ichigo2002\",\n",
    "  database=\"mydb\"\n",
    ")\n",
    "\n",
    "# Kiểm tra kết nối\n",
    "if mydb.is_connected():\n",
    "    print(\"Kết nối thành công!\")\n",
    "\n",
    "# Thực thi các truy vấn SQL\n",
    "mycursor = mydb.cursor()\n",
    "\n",
    "# Truy vấn dữ liệu\n",
    "# Lấy kết quả\n",
    "mycursor.execute(\"SELECT account_id, movie_id, stars FROM ratings\")\n",
    "results = mycursor.fetchall()\n",
    "\n",
    "mycursor.execute(\"select m.id, group_concat(g.genre_name separator ', ') as genres from movies m join movies_has_genres mg on m.id = mg.movie_id join genres g on g.id = mg.genre_id group by m.id;\")\n",
    "results2 = mycursor.fetchall()\n",
    "\n",
    "mycursor.execute(\"select distinct account_id from ratings;\")\n",
    "results3 = mycursor.fetchall()\n",
    "\n",
    "# Đóng kết nối\n",
    "mycursor.close()\n",
    "mydb.close()"
   ]
  },
  {
   "cell_type": "code",
   "execution_count": 24,
   "metadata": {},
   "outputs": [
    {
     "name": "stdout",
     "output_type": "stream",
     "text": [
      "Ghi file thành công!\n"
     ]
    }
   ],
   "source": [
    "# Hàm chuyển đổi từ tuple thành chuỗi theo định dạng bạn mong muốn\n",
    "def format_result(result):\n",
    "    return '|'.join(map(str, result))\n",
    "\n",
    "# Mở một file để ghi dữ liệu\n",
    "with open('user_rating.txt', 'w') as file:\n",
    "    # Ghi từng dòng đã được định dạng vào file\n",
    "    for result in results:\n",
    "        file.write(format_result(result) + '\\n')\n",
    "\n",
    "print(\"Ghi file thành công!\")"
   ]
  },
  {
   "cell_type": "code",
   "execution_count": 25,
   "metadata": {},
   "outputs": [
    {
     "data": {
      "text/html": [
       "<div>\n",
       "<style scoped>\n",
       "    .dataframe tbody tr th:only-of-type {\n",
       "        vertical-align: middle;\n",
       "    }\n",
       "\n",
       "    .dataframe tbody tr th {\n",
       "        vertical-align: top;\n",
       "    }\n",
       "\n",
       "    .dataframe thead th {\n",
       "        text-align: right;\n",
       "    }\n",
       "</style>\n",
       "<table border=\"1\" class=\"dataframe\">\n",
       "  <thead>\n",
       "    <tr style=\"text-align: right;\">\n",
       "      <th></th>\n",
       "      <th>user_id</th>\n",
       "      <th>movie_id</th>\n",
       "      <th>rating</th>\n",
       "    </tr>\n",
       "  </thead>\n",
       "  <tbody>\n",
       "    <tr>\n",
       "      <th>0</th>\n",
       "      <td>3</td>\n",
       "      <td>11</td>\n",
       "      <td>4</td>\n",
       "    </tr>\n",
       "    <tr>\n",
       "      <th>1</th>\n",
       "      <td>3</td>\n",
       "      <td>12</td>\n",
       "      <td>4</td>\n",
       "    </tr>\n",
       "    <tr>\n",
       "      <th>2</th>\n",
       "      <td>3</td>\n",
       "      <td>42</td>\n",
       "      <td>5</td>\n",
       "    </tr>\n",
       "    <tr>\n",
       "      <th>3</th>\n",
       "      <td>3</td>\n",
       "      <td>41</td>\n",
       "      <td>2</td>\n",
       "    </tr>\n",
       "    <tr>\n",
       "      <th>4</th>\n",
       "      <td>3</td>\n",
       "      <td>40</td>\n",
       "      <td>4</td>\n",
       "    </tr>\n",
       "  </tbody>\n",
       "</table>\n",
       "</div>"
      ],
      "text/plain": [
       "   user_id  movie_id  rating\n",
       "0        3        11       4\n",
       "1        3        12       4\n",
       "2        3        42       5\n",
       "3        3        41       2\n",
       "4        3        40       4"
      ]
     },
     "execution_count": 25,
     "metadata": {},
     "output_type": "execute_result"
    }
   ],
   "source": [
    "import pandas as pd\n",
    "#Reading ratings file:\n",
    "r_cols = ['user_id', 'movie_id', 'rating']\n",
    "\n",
    "ratings_base = pd.read_csv('user_rating.txt', sep='|', names=r_cols, encoding='latin-1')\n",
    "ratings_base.head()"
   ]
  },
  {
   "cell_type": "code",
   "execution_count": 26,
   "metadata": {},
   "outputs": [
    {
     "name": "stdout",
     "output_type": "stream",
     "text": [
      "   user_id  movie_id  rating  id\n",
      "0        3        11       4   0\n",
      "1        3        12       4   1\n",
      "2        3        42       5  25\n",
      "3        3        41       2  24\n",
      "4        3        40       4  23\n"
     ]
    }
   ],
   "source": [
    "id = -1\n",
    "movies = [(movie_id, genres, id:=id+1) for movie_id, genres in results2]\n",
    "movies_df = pd.DataFrame(movies, columns=['movie_id', 'genres', 'id'])\n",
    "\n",
    "merged_df = pd.merge(ratings_base, movies_df[['movie_id', 'id']], on='movie_id', how='left')\n",
    "print(merged_df.head())"
   ]
  },
  {
   "cell_type": "code",
   "execution_count": 27,
   "metadata": {},
   "outputs": [
    {
     "name": "stdout",
     "output_type": "stream",
     "text": [
      "Number of traing rates: 18\n",
      "    user_id  movie_id  rating  id  u_id\n",
      "0         3        11       4   0     2\n",
      "1         3        12       4   1     2\n",
      "2         3        42       5  25     2\n",
      "3         3        41       2  24     2\n",
      "4         3        40       4  23     2\n",
      "5         3        38       1  21     2\n",
      "6         1        11       5   0     0\n",
      "7         1        12       4   1     0\n",
      "8         1        13       4   2     0\n",
      "9         1        14       3   3     0\n",
      "10        1        15       2   4     0\n",
      "11        2        15       2   4     1\n",
      "12        2        16       4   5     1\n",
      "13        2        17       5   6     1\n",
      "14        2        18       3   7     1\n",
      "15        2        19       4   8     1\n",
      "16        8        18       5   7     3\n",
      "17        8        19       4   8     3\n"
     ]
    }
   ],
   "source": [
    "id = -1\n",
    "results3_list = [item[0] for item in results3]\n",
    "users = [(u_id, id:=id+1) for u_id in results3_list]\n",
    "users_df = pd.DataFrame(users, columns=['user_id', 'u_id'])\n",
    "merged_df2 = pd.merge(merged_df, users_df[['user_id', 'u_id']], on='user_id', how='left')\n",
    "rate_train = merged_df2.values\n",
    "\n",
    "print('Number of traing rates:', rate_train.shape[0])\n",
    "print(merged_df2)\n"
   ]
  },
  {
   "cell_type": "code",
   "execution_count": 28,
   "metadata": {},
   "outputs": [],
   "source": [
    "genres = ['unknown', 'Action', 'Adventure',\n",
    " 'Animation', 'Children\\'s', 'Comedy', 'Crime', 'Documentary', 'Drama', 'Fantasy',\n",
    " 'Film-Noir', 'Horror', 'Musical', 'Mystery', 'Romance', 'Sci-Fi', 'Thriller', 'War', 'Western']\n",
    "genres_tfidf = []\n",
    "for result2 in results2:\n",
    "    # Chuyển đổi chuỗi thành danh sách các thể loại\n",
    "    movie_genres_str = result2[1]\n",
    "    movie_genres = movie_genres_str.split(\", \")\n",
    "\n",
    "    # Tạo danh sách nhị phân dựa trên thể loại phim\n",
    "    binary_representation = [1 if genre in movie_genres else 0 for genre in genres]\n",
    "    genres_tfidf.append(binary_representation)"
   ]
  },
  {
   "cell_type": "code",
   "execution_count": 29,
   "metadata": {},
   "outputs": [],
   "source": [
    "#tfidf\n",
    "from sklearn.feature_extraction.text import TfidfTransformer\n",
    "transformer = TfidfTransformer(smooth_idf=True, norm ='l2')\n",
    "tfidf = transformer.fit_transform(genres_tfidf).toarray()\n",
    "# print(tfidf)"
   ]
  },
  {
   "cell_type": "code",
   "execution_count": 30,
   "metadata": {},
   "outputs": [],
   "source": [
    "import numpy as np\n",
    "def get_items_rated_by_user(rate_matrix, user_id):\n",
    "    \"\"\"\n",
    "    return (item_ids, scores)\n",
    "    \"\"\"\n",
    "    y = rate_matrix[:,4] # all users\n",
    "    # item indices rated by user_id\n",
    "    # we need to +1 to user_id since in the rate_matrix, id starts from 1\n",
    "    # but id in python starts from 0\n",
    "    ids = np.where(y == user_id)[0]\n",
    "    item_ids = rate_matrix[ids, 3]# index starts from 0\n",
    "    scores = rate_matrix[ids, 2]\n",
    "    return (item_ids, scores)"
   ]
  },
  {
   "cell_type": "code",
   "execution_count": 31,
   "metadata": {},
   "outputs": [],
   "source": [
    "from sklearn.linear_model import Ridge\n",
    "from sklearn import linear_model\n",
    "\n",
    "n_users = len(results3)\n",
    "d = tfidf.shape[1] # data dimension\n",
    "W = np.zeros((d, n_users))\n",
    "b = np.zeros((1, n_users))\n",
    "\n",
    "for n in range(n_users):\n",
    "    ids, scores = get_items_rated_by_user(rate_train, n)\n",
    "    clf = Ridge(alpha=0.01, fit_intercept  = True)\n",
    "    Xhat = tfidf[ids, :]\n",
    "\n",
    "    clf.fit(Xhat, scores)\n",
    "    W[:, n] = clf.coef_\n",
    "    b[0, n] = clf.intercept_"
   ]
  },
  {
   "cell_type": "code",
   "execution_count": 32,
   "metadata": {},
   "outputs": [],
   "source": [
    "n_user = 8\n",
    "n_user_index = results3_list.index(n_user)"
   ]
  },
  {
   "cell_type": "code",
   "execution_count": 33,
   "metadata": {},
   "outputs": [
    {
     "data": {
      "text/plain": [
       "[(0, 4.5),\n",
       " (23, 4.5),\n",
       " (22, 4.5),\n",
       " (21, 4.5),\n",
       " (20, 4.5),\n",
       " (19, 4.5),\n",
       " (18, 4.5),\n",
       " (17, 4.5),\n",
       " (16, 4.5),\n",
       " (15, 4.5),\n",
       " (14, 4.5),\n",
       " (13, 4.5),\n",
       " (12, 4.5),\n",
       " (11, 4.5),\n",
       " (10, 4.5),\n",
       " (9, 4.5),\n",
       " (8, 4.5),\n",
       " (7, 4.5),\n",
       " (6, 4.5),\n",
       " (5, 4.5),\n",
       " (4, 4.5),\n",
       " (3, 4.5),\n",
       " (2, 4.5),\n",
       " (1, 4.5),\n",
       " (24, 4.5),\n",
       " (25, 4.5)]"
      ]
     },
     "execution_count": 33,
     "metadata": {},
     "output_type": "execute_result"
    }
   ],
   "source": [
    "Yhat = tfidf.dot(W) + b\n",
    "response = np.array(Yhat[:, n_user_index])\n",
    "sorted_response = np.argsort(-response)\n",
    "recommend = [(i, response[i]) for i in sorted_response]\n",
    "recommend"
   ]
  },
  {
   "cell_type": "code",
   "execution_count": 34,
   "metadata": {},
   "outputs": [
    {
     "data": {
      "text/plain": [
       "[(0, 4.5),\n",
       " (23, 4.5),\n",
       " (22, 4.5),\n",
       " (21, 4.5),\n",
       " (20, 4.5),\n",
       " (19, 4.5),\n",
       " (18, 4.5),\n",
       " (17, 4.5),\n",
       " (16, 4.5),\n",
       " (15, 4.5),\n",
       " (14, 4.5),\n",
       " (13, 4.5),\n",
       " (12, 4.5),\n",
       " (11, 4.5),\n",
       " (10, 4.5),\n",
       " (9, 4.5),\n",
       " (6, 4.5),\n",
       " (5, 4.5),\n",
       " (4, 4.5),\n",
       " (3, 4.5),\n",
       " (2, 4.5),\n",
       " (1, 4.5),\n",
       " (24, 4.5),\n",
       " (25, 4.5)]"
      ]
     },
     "execution_count": 34,
     "metadata": {},
     "output_type": "execute_result"
    }
   ],
   "source": [
    "ids, scores = get_items_rated_by_user(rate_train, n_user_index)\n",
    "remove_ids_rated = set(ids)\n",
    "remove_ids_rated\n",
    "filtered_recommend = [item for item in recommend if item[0] not in remove_ids_rated]\n",
    "filtered_recommend\n"
   ]
  },
  {
   "cell_type": "code",
   "execution_count": 35,
   "metadata": {},
   "outputs": [],
   "source": [
    "#ket qua cuoi cung la id cua cac phim duoc goi y\n",
    "final_result = []\n",
    "for item in filtered_recommend:\n",
    "    result = results2[item[0]][0]\n",
    "    final_result.append(result)"
   ]
  },
  {
   "cell_type": "code",
   "execution_count": 36,
   "metadata": {},
   "outputs": [
    {
     "name": "stdout",
     "output_type": "stream",
     "text": [
      "RMSE: 0.41983998156948604\n"
     ]
    }
   ],
   "source": [
    "from math import sqrt\n",
    "def evaluate(Yhat, rates, W, b):\n",
    "    se = 0\n",
    "    cnt = 0\n",
    "    for n in range(n_users):\n",
    "        ids, scores_truth = get_items_rated_by_user(rates, n)\n",
    "        scores_pred = Yhat[ids, n]\n",
    "        e = scores_truth - scores_pred\n",
    "        se += (e*e).sum(axis = 0)\n",
    "        cnt += e.size\n",
    "    return sqrt(se/cnt)\n",
    "\n",
    "print('RMSE:', evaluate(Yhat, rate_train, W, b))"
   ]
  },
  {
   "cell_type": "code",
   "execution_count": 38,
   "metadata": {},
   "outputs": [
    {
     "data": {
      "text/plain": [
       "array([[4.32400242, 2.53351451, 3.98872742, 4.5       ],\n",
       "       [4.32400242, 2.53351451, 3.98872742, 4.5       ],\n",
       "       [4.32400242, 2.53351451, 3.98872742, 4.5       ],\n",
       "       [2.9730065 , 2.40933756, 2.79672313, 4.5       ],\n",
       "       [2.05498623, 2.01349326, 3.56219308, 4.5       ],\n",
       "       [4.14802972, 3.99113837, 4.25654658, 4.5       ],\n",
       "       [3.50032258, 3.99845612, 3.90234521, 4.5       ],\n",
       "       [3.50032258, 3.99845612, 3.90234521, 4.5       ],\n",
       "       [3.50032258, 3.99845612, 3.90234521, 4.5       ],\n",
       "       [3.50032258, 3.32446381, 2.97343617, 4.5       ],\n",
       "       [3.50032258, 3.47983964, 2.91958457, 4.5       ],\n",
       "       [4.1935673 , 3.5289087 , 2.3099795 , 4.5       ],\n",
       "       [4.30658947, 3.92269682, 3.10824721, 4.5       ],\n",
       "       [2.40727786, 2.37400989, 2.96972023, 4.5       ],\n",
       "       [3.50032258, 3.18882438, 3.02044735, 4.5       ],\n",
       "       [3.50032258, 3.75852519, 3.87963539, 4.5       ],\n",
       "       [3.50032258, 3.18882438, 3.02044735, 4.5       ],\n",
       "       [3.50032258, 3.18882438, 3.02044735, 4.5       ],\n",
       "       [3.50032258, 3.18882438, 3.02044735, 4.5       ],\n",
       "       [3.50032258, 3.18882438, 3.02044735, 4.5       ],\n",
       "       [4.29495209, 3.06035388, 2.01963477, 4.5       ],\n",
       "       [3.90930903, 3.06511176, 1.02569576, 4.5       ],\n",
       "       [3.90930903, 3.06511176, 1.02569576, 4.5       ],\n",
       "       [3.46228072, 3.32265702, 4.00030586, 4.5       ],\n",
       "       [4.29495209, 3.06035388, 2.01963477, 4.5       ],\n",
       "       [3.44866242, 3.91820037, 4.97690878, 4.5       ]])"
      ]
     },
     "execution_count": 38,
     "metadata": {},
     "output_type": "execute_result"
    }
   ],
   "source": [
    "Yhat\n"
   ]
  }
 ],
 "metadata": {
  "kernelspec": {
   "display_name": "Python 3",
   "language": "python",
   "name": "python3"
  },
  "language_info": {
   "codemirror_mode": {
    "name": "ipython",
    "version": 3
   },
   "file_extension": ".py",
   "mimetype": "text/x-python",
   "name": "python",
   "nbconvert_exporter": "python",
   "pygments_lexer": "ipython3",
   "version": "3.10.5"
  }
 },
 "nbformat": 4,
 "nbformat_minor": 2
}
